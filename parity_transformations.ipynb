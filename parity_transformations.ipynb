{
 "cells": [
  {
   "cell_type": "code",
   "execution_count": 1,
   "id": "efficient-airport",
   "metadata": {},
   "outputs": [],
   "source": [
    "import numpy as np\n",
    "import networkx as nx\n",
    "import matplotlib.pyplot as plt\n",
    "import hspace, qaoa\n",
    "from scipy.optimize import minimize\n",
    "from collections import defaultdict\n",
    "from qiskit import QuantumCircuit, Aer, execute"
   ]
  },
  {
   "cell_type": "markdown",
   "id": "matched-voice",
   "metadata": {},
   "source": [
    "Let's study the All-to-All 6 qubit ising system"
   ]
  },
  {
   "cell_type": "code",
   "execution_count": 17,
   "id": "labeled-wonder",
   "metadata": {},
   "outputs": [
    {
     "data": {
      "image/png": "[encoded data removed]",
      "text/plain": [
       "<Figure size 432x288 with 1 Axes>"
      ]
     },
     "metadata": {},
     "output_type": "display_data"
    }
   ],
   "source": [
    "n=4\n",
    "G = nx.Graph()\n",
    "G.add_nodes_from(range(n))\n",
    "G.add_edges_from(hspace.generate_edges(n))\n",
    "nx.draw(G,with_labels=True,alpha=0.9,node_size=400)"
   ]
  },
  {
   "cell_type": "markdown",
   "id": "young-gabriel",
   "metadata": {},
   "source": [
    "This system is naturally endowed with a 2^6 dimensional Hilbert space (logical basis), spanned by"
   ]
  },
  {
   "cell_type": "code",
   "execution_count": 18,
   "id": "experienced-zimbabwe",
   "metadata": {},
   "outputs": [],
   "source": [
    "logical_basis = hspace.generate_basis(4)"
   ]
  },
  {
   "cell_type": "markdown",
   "id": "mental-breakdown",
   "metadata": {},
   "source": [
    "In the LHZ formalism, we want to map the N qubits from the Ising system to the K = N(N-1)/2 Parity variables, and impose C = K - N + 1 holonomy constraints to generate the parity Hilbert space Hpar = H_Ising/Z_2, of dimension 2^(N-1). Let's generate all the canonical constraints and check the matching. First, we can use the `hspace.log_to_phys` function followed by `hspace.remove_duplicates` to map all the logical states in the logical basis to parity states, generating a basis for the physical states"
   ]
  },
  {
   "cell_type": "code",
   "execution_count": 19,
   "id": "manual-ability",
   "metadata": {},
   "outputs": [],
   "source": [
    "physical_basis = hspace.remove_duplicates([hspace.log_to_phys(state) for state in logical_basis])"
   ]
  },
  {
   "cell_type": "code",
   "execution_count": 20,
   "id": "little-tolerance",
   "metadata": {},
   "outputs": [
    {
     "data": {
      "text/plain": [
       "[[1, 1, 1, 1, 1, 1],\n",
       " [1, 1, 0, 0, 1, 0],\n",
       " [1, 0, 0, 1, 0, 1],\n",
       " [1, 0, 1, 0, 0, 0],\n",
       " [0, 0, 1, 1, 1, 0],\n",
       " [0, 0, 0, 0, 1, 1],\n",
       " [0, 1, 0, 1, 0, 0],\n",
       " [0, 1, 1, 0, 0, 1]]"
      ]
     },
     "execution_count": 20,
     "metadata": {},
     "output_type": "execute_result"
    }
   ],
   "source": [
    "physical_basis"
   ]
  },
  {
   "cell_type": "markdown",
   "id": "objective-georgia",
   "metadata": {},
   "source": [
    "Notice that the LHZ transform maps the spins to relative spins, naturally generating the quotient of the Z_2 group, i.e dim(H_phys) = dim(H_logical)/dim(Z_2). Next, we can follow another path, namely, we can define a Hilbert space of the K = 15 parity variables, which has an immense overhead, and then impose the C = 10 constraints, separated in 3-body terms (T) and 4-body terms (S)."
   ]
  },
  {
   "cell_type": "code",
   "execution_count": 11,
   "id": "multiple-covering",
   "metadata": {},
   "outputs": [],
   "source": [
    "parity_basis = hspace.generate_basis(15)"
   ]
  },
  {
   "cell_type": "code",
   "execution_count": 25,
   "id": "eight-senate",
   "metadata": {},
   "outputs": [
    {
     "data": {
      "text/plain": [
       "32768"
      ]
     },
     "execution_count": 25,
     "metadata": {},
     "output_type": "execute_result"
    }
   ],
   "source": [
    "len(parity_basis)"
   ]
  },
  {
   "cell_type": "code",
   "execution_count": 6,
   "id": "central-leave",
   "metadata": {},
   "outputs": [],
   "source": [
    "T_constraints = hspace.generate_T_constraints(n)\n",
    "S_constraints = hspace.generate_S_constraints(n)"
   ]
  },
  {
   "cell_type": "markdown",
   "id": "collaborative-exclusive",
   "metadata": {},
   "source": [
    "The complete set of holonomies (https://www.science.org/doi/epdf/10.1126/sciadv.1500838) are generated by four 3-body interactions, and six 4-body interactions"
   ]
  },
  {
   "cell_type": "code",
   "execution_count": 7,
   "id": "raised-pearl",
   "metadata": {},
   "outputs": [
    {
     "data": {
      "text/plain": [
       "[[(0, 1), (0, 2), (1, 2)],\n",
       " [(1, 2), (1, 3), (2, 3)],\n",
       " [(2, 3), (2, 4), (3, 4)],\n",
       " [(3, 4), (3, 5), (4, 5)]]"
      ]
     },
     "execution_count": 7,
     "metadata": {},
     "output_type": "execute_result"
    }
   ],
   "source": [
    "T_constraints"
   ]
  },
  {
   "cell_type": "code",
   "execution_count": 8,
   "id": "minor-mayor",
   "metadata": {},
   "outputs": [
    {
     "data": {
      "text/plain": [
       "[[(0, 2), (1, 2), (0, 3), (1, 3)],\n",
       " [(0, 3), (1, 3), (0, 4), (1, 4)],\n",
       " [(1, 3), (2, 3), (1, 4), (2, 4)],\n",
       " [(0, 4), (1, 4), (0, 5), (1, 5)],\n",
       " [(1, 4), (2, 4), (1, 5), (2, 5)],\n",
       " [(2, 4), (3, 4), (2, 5), (3, 5)]]"
      ]
     },
     "execution_count": 8,
     "metadata": {},
     "output_type": "execute_result"
    }
   ],
   "source": [
    "S_constraints"
   ]
  },
  {
   "cell_type": "markdown",
   "id": "promotional-outreach",
   "metadata": {},
   "source": [
    "The sanity check requires us to follow the constraints (even number of 0's in each Holonomy state) t eliminate spurous states from the parity basis. We can use the functions `hspace.k-body_fix` to eliminate the states. But first we need to map the space of edges to the space of physical qubits, via the function `hspace.to_parity_basis`"
   ]
  },
  {
   "cell_type": "code",
   "execution_count": 9,
   "id": "sealed-floating",
   "metadata": {},
   "outputs": [],
   "source": [
    "T_list = [hspace.to_parity_basis(T,n) for T in T_constraints]\n",
    "S_list = [hspace.to_parity_basis(S,n) for S in S_constraints]"
   ]
  },
  {
   "cell_type": "code",
   "execution_count": 12,
   "id": "listed-prize",
   "metadata": {},
   "outputs": [],
   "source": [
    "for T in T_list:\n",
    "    parity_basis = hspace.k_body_fix(T,parity_basis)[1]\n",
    "for S in S_list:\n",
    "    parity_basis = hspace.k_body_fix(S,parity_basis)[1]"
   ]
  },
  {
   "cell_type": "markdown",
   "id": "agricultural-civilian",
   "metadata": {},
   "source": [
    "Which imposes the constraints, generating the parity basis:"
   ]
  },
  {
   "cell_type": "code",
   "execution_count": 34,
   "id": "southeast-restaurant",
   "metadata": {},
   "outputs": [
    {
     "data": {
      "text/plain": [
       "[[0, 0, 0, 0, 0, 0, 1, 0, 1, 1, 0, 1, 1, 0, 1],\n",
       " [0, 0, 0, 0, 1, 1, 1, 0, 1, 1, 0, 0, 1, 1, 0],\n",
       " [0, 0, 0, 1, 0, 1, 1, 0, 0, 1, 1, 0, 0, 1, 0],\n",
       " [0, 0, 0, 1, 1, 0, 1, 0, 0, 1, 1, 1, 0, 0, 1],\n",
       " [0, 0, 1, 0, 0, 1, 1, 1, 0, 0, 1, 0, 0, 1, 1],\n",
       " [0, 0, 1, 0, 1, 0, 1, 1, 0, 0, 1, 1, 0, 0, 0],\n",
       " [0, 0, 1, 1, 0, 0, 1, 1, 1, 0, 0, 1, 1, 0, 0],\n",
       " [0, 0, 1, 1, 1, 1, 1, 1, 1, 0, 0, 0, 1, 1, 1],\n",
       " [0, 1, 0, 0, 0, 1, 0, 1, 0, 0, 1, 0, 1, 0, 1],\n",
       " [0, 1, 0, 0, 1, 0, 0, 1, 0, 0, 1, 1, 1, 1, 0],\n",
       " [0, 1, 0, 1, 0, 0, 0, 1, 1, 0, 0, 1, 0, 1, 0],\n",
       " [0, 1, 0, 1, 1, 1, 0, 1, 1, 0, 0, 0, 0, 0, 1],\n",
       " [0, 1, 1, 0, 0, 0, 0, 0, 1, 1, 0, 1, 0, 1, 1],\n",
       " [0, 1, 1, 0, 1, 1, 0, 0, 1, 1, 0, 0, 0, 0, 0],\n",
       " [0, 1, 1, 1, 0, 1, 0, 0, 0, 1, 1, 0, 1, 0, 0],\n",
       " [0, 1, 1, 1, 1, 0, 0, 0, 0, 1, 1, 1, 1, 1, 1],\n",
       " [1, 0, 0, 0, 0, 1, 0, 1, 0, 1, 0, 1, 1, 0, 1],\n",
       " [1, 0, 0, 0, 1, 0, 0, 1, 0, 1, 0, 0, 1, 1, 0],\n",
       " [1, 0, 0, 1, 0, 0, 0, 1, 1, 1, 1, 0, 0, 1, 0],\n",
       " [1, 0, 0, 1, 1, 1, 0, 1, 1, 1, 1, 1, 0, 0, 1],\n",
       " [1, 0, 1, 0, 0, 0, 0, 0, 1, 0, 1, 0, 0, 1, 1],\n",
       " [1, 0, 1, 0, 1, 1, 0, 0, 1, 0, 1, 1, 0, 0, 0],\n",
       " [1, 0, 1, 1, 0, 1, 0, 0, 0, 0, 0, 1, 1, 0, 0],\n",
       " [1, 0, 1, 1, 1, 0, 0, 0, 0, 0, 0, 0, 1, 1, 1],\n",
       " [1, 1, 0, 0, 0, 0, 1, 0, 1, 0, 1, 0, 1, 0, 1],\n",
       " [1, 1, 0, 0, 1, 1, 1, 0, 1, 0, 1, 1, 1, 1, 0],\n",
       " [1, 1, 0, 1, 0, 1, 1, 0, 0, 0, 0, 1, 0, 1, 0],\n",
       " [1, 1, 0, 1, 1, 0, 1, 0, 0, 0, 0, 0, 0, 0, 1],\n",
       " [1, 1, 1, 0, 0, 1, 1, 1, 0, 1, 0, 1, 0, 1, 1],\n",
       " [1, 1, 1, 0, 1, 0, 1, 1, 0, 1, 0, 0, 0, 0, 0],\n",
       " [1, 1, 1, 1, 0, 0, 1, 1, 1, 1, 1, 0, 1, 0, 0],\n",
       " [1, 1, 1, 1, 1, 1, 1, 1, 1, 1, 1, 1, 1, 1, 1]]"
      ]
     },
     "execution_count": 34,
     "metadata": {},
     "output_type": "execute_result"
    }
   ],
   "source": [
    "parity_basis"
   ]
  },
  {
   "cell_type": "code",
   "execution_count": 35,
   "id": "material-friday",
   "metadata": {},
   "outputs": [
    {
     "data": {
      "text/plain": [
       "32"
      ]
     },
     "execution_count": 35,
     "metadata": {},
     "output_type": "execute_result"
    }
   ],
   "source": [
    "len(parity_basis)"
   ]
  },
  {
   "cell_type": "code",
   "execution_count": 13,
   "id": "tough-bruce",
   "metadata": {},
   "outputs": [],
   "source": [
    "physical_basis.sort()\n",
    "parity_basis.sort()"
   ]
  },
  {
   "cell_type": "code",
   "execution_count": 16,
   "id": "compound-listening",
   "metadata": {},
   "outputs": [
    {
     "data": {
      "text/plain": [
       "True"
      ]
     },
     "execution_count": 16,
     "metadata": {},
     "output_type": "execute_result"
    }
   ],
   "source": [
    "parity_basis == physical_basis"
   ]
  }
 ],
 "metadata": {
  "kernelspec": {
   "display_name": "Python 3.8.5 64-bit ('fintelligence')",
   "language": "python",
   "name": "python38564bitfintelligence4ec7eb9d95ae48468d06393babb21631"
  },
  "language_info": {
   "codemirror_mode": {
    "name": "ipython",
    "version": 3
   },
   "file_extension": ".py",
   "mimetype": "text/x-python",
   "name": "python",
   "nbconvert_exporter": "python",
   "pygments_lexer": "ipython3",
   "version": "3.8.5"
  }
 },
 "nbformat": 4,
 "nbformat_minor": 5
}
