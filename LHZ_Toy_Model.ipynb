{
 "cells": [
  {
   "cell_type": "code",
   "execution_count": 1,
   "id": "solid-peeing",
   "metadata": {},
   "outputs": [],
   "source": [
    "import numpy as np\n",
    "import networkx as nx\n",
    "import matplotlib.pyplot as plt\n",
    "import hspace, qaoa, lhz\n",
    "from scipy.optimize import minimize\n",
    "from collections import defaultdict\n",
    "from qiskit import QuantumCircuit, Aer, execute"
   ]
  },
  {
   "cell_type": "markdown",
   "id": "narrow-voice",
   "metadata": {},
   "source": [
    "We want to study a controlled action of operators in the all-to-all system of 4qubits in the LHZ formalism"
   ]
  },
  {
   "cell_type": "code",
   "execution_count": 5,
   "id": "divided-bhutan",
   "metadata": {},
   "outputs": [
    {
     "data": {
      "image/png": "[encoded data removed]",
      "text/plain": [
       "<Figure size 432x288 with 1 Axes>"
      ]
     },
     "metadata": {},
     "output_type": "display_data"
    }
   ],
   "source": [
    "n=4\n",
    "G = nx.Graph()\n",
    "G.add_nodes_from(range(n))\n",
    "G.add_edges_from(hspace.generate_edges(n))\n",
    "nx.draw(G,with_labels=True,alpha=0.9,node_size=400)"
   ]
  },
  {
   "cell_type": "markdown",
   "id": "afraid-wayne",
   "metadata": {},
   "source": [
    "We can brute force the solution by looping through all states"
   ]
  },
  {
   "cell_type": "code",
   "execution_count": 6,
   "id": "boolean-variable",
   "metadata": {},
   "outputs": [
    {
     "data": {
      "text/plain": [
       "-4"
      ]
     },
     "execution_count": 6,
     "metadata": {},
     "output_type": "execute_result"
    }
   ],
   "source": [
    "np.array([qaoa.objective(state,G) for state in hspace.generate_basis(4)]).min()"
   ]
  },
  {
   "cell_type": "code",
   "execution_count": 7,
   "id": "marine-subdivision",
   "metadata": {},
   "outputs": [
    {
     "name": "stdout",
     "output_type": "stream",
     "text": [
      "[[0, 0, 1, 1], [0, 1, 0, 1], [0, 1, 1, 0], [1, 0, 0, 1], [1, 0, 1, 0], [1, 1, 0, 0]]\n"
     ]
    }
   ],
   "source": [
    "ground_states = []\n",
    "for state in hspace.generate_basis(4):\n",
    "    if qaoa.objective(state,G) == -4:\n",
    "        ground_states.append(state)\n",
    "print(ground_states)"
   ]
  },
  {
   "cell_type": "markdown",
   "id": "green-berry",
   "metadata": {},
   "source": [
    "In the parity variables they correspond to the solutions"
   ]
  },
  {
   "cell_type": "code",
   "execution_count": 8,
   "id": "convertible-economics",
   "metadata": {},
   "outputs": [],
   "source": [
    "parity_ground = hspace.remove_duplicates([hspace.log_to_phys(state) for state in ground_states])"
   ]
  },
  {
   "cell_type": "code",
   "execution_count": 9,
   "id": "available-justice",
   "metadata": {},
   "outputs": [
    {
     "data": {
      "text/plain": [
       "[[1, 0, 1, 0, 0, 0], [0, 0, 0, 0, 1, 1], [0, 1, 0, 1, 0, 0]]"
      ]
     },
     "execution_count": 9,
     "metadata": {},
     "output_type": "execute_result"
    }
   ],
   "source": [
    "parity_ground"
   ]
  },
  {
   "cell_type": "markdown",
   "id": "opposite-typing",
   "metadata": {},
   "source": [
    "The parity Hamiltonian consists of the local field terms and T1, T2, S1 constraints"
   ]
  },
  {
   "cell_type": "code",
   "execution_count": 10,
   "id": "dental-intersection",
   "metadata": {},
   "outputs": [],
   "source": [
    "T_constraints = hspace.generate_T_constraints(4)\n",
    "S_constraints = hspace.generate_S_constraints(4)"
   ]
  },
  {
   "cell_type": "code",
   "execution_count": 11,
   "id": "seven-might",
   "metadata": {},
   "outputs": [],
   "source": [
    "T_list = [hspace.to_parity_basis(T,4) for T in T_constraints]\n",
    "S_list = [hspace.to_parity_basis(S,4) for S in S_constraints]\n",
    "constraints = S_list+T_list"
   ]
  },
  {
   "cell_type": "code",
   "execution_count": 12,
   "id": "everyday-capital",
   "metadata": {},
   "outputs": [
    {
     "data": {
      "text/plain": [
       "[[0, 1, 4], [1, 2, 5]]"
      ]
     },
     "execution_count": 12,
     "metadata": {},
     "output_type": "execute_result"
    }
   ],
   "source": [
    "T_list"
   ]
  },
  {
   "cell_type": "code",
   "execution_count": 13,
   "id": "naked-romantic",
   "metadata": {},
   "outputs": [
    {
     "data": {
      "text/plain": [
       "[[1, 3, 4, 5]]"
      ]
     },
     "execution_count": 13,
     "metadata": {},
     "output_type": "execute_result"
    }
   ],
   "source": [
    "S_list"
   ]
  },
  {
   "cell_type": "markdown",
   "id": "sensitive-leather",
   "metadata": {},
   "source": [
    "We can check that the states `parity_ground` satisfy the holonomy constaints, filtering via the `k_body_fix` function:"
   ]
  },
  {
   "cell_type": "code",
   "execution_count": 14,
   "id": "formed-establishment",
   "metadata": {},
   "outputs": [
    {
     "name": "stdout",
     "output_type": "stream",
     "text": [
      "[[1, 0, 1, 0, 0, 0], [0, 0, 0, 0, 1, 1], [0, 1, 0, 1, 0, 0]]\n"
     ]
    }
   ],
   "source": [
    "for T in T_list:\n",
    "    parity_solution = hspace.k_body_fix(T,parity_ground)[1]\n",
    "for S in S_list:\n",
    "    parity_solution = hspace.k_body_fix(S,parity_solution)[1]\n",
    "print(parity_solution)"
   ]
  },
  {
   "cell_type": "markdown",
   "id": "geographic-reputation",
   "metadata": {},
   "source": [
    "For a given parity state |i_0,i_1,i_2,...,i_5>, the Hamiltonian H_LHZ evaluates to"
   ]
  },
  {
   "cell_type": "code",
   "execution_count": 15,
   "id": "prepared-temperature",
   "metadata": {},
   "outputs": [],
   "source": [
    "def H_LHZ(state,constraints,strength = 1):\n",
    "    def energy(spin):\n",
    "        if spin==0:\n",
    "            return -1\n",
    "        if spin==1:\n",
    "            return 1\n",
    "    aux_state = [energy(int(spin)) for spin in state]\n",
    "    energy = 0\n",
    "    for spin in aux_state:\n",
    "        energy+=spin\n",
    "    for constraint in constraints:\n",
    "        plaquette_energy = 1\n",
    "        for site in constraint:\n",
    "            plaquette_energy  = plaquette_energy*aux_state[site]\n",
    "        energy-=plaquette_energy*strength\n",
    "    return energy"
   ]
  },
  {
   "cell_type": "code",
   "execution_count": 16,
   "id": "frank-lafayette",
   "metadata": {},
   "outputs": [
    {
     "data": {
      "text/plain": [
       "[-5, -5, -5]"
      ]
     },
     "execution_count": 16,
     "metadata": {},
     "output_type": "execute_result"
    }
   ],
   "source": [
    "[H_LHZ(ground_state,constraints) for ground_state in parity_ground ]"
   ]
  },
  {
   "cell_type": "code",
   "execution_count": 17,
   "id": "muslim-arbitration",
   "metadata": {},
   "outputs": [],
   "source": [
    "parity_space = hspace.remove_duplicates([hspace.log_to_phys(state) for state in hspace.generate_basis(4)])"
   ]
  },
  {
   "cell_type": "code",
   "execution_count": 18,
   "id": "statewide-thesis",
   "metadata": {},
   "outputs": [
    {
     "data": {
      "text/plain": [
       "[3, -3, -3, -5, -3, -5, -5, -3]"
      ]
     },
     "execution_count": 18,
     "metadata": {},
     "output_type": "execute_result"
    }
   ],
   "source": [
    "[H_LHZ(state,constraints) for state in parity_space]"
   ]
  },
  {
   "cell_type": "markdown",
   "id": "informed-intranet",
   "metadata": {},
   "source": [
    "which in fact correspond to the ground states of the parity_space."
   ]
  },
  {
   "cell_type": "markdown",
   "id": "adolescent-litigation",
   "metadata": {},
   "source": [
    "## Solving with QAOA"
   ]
  },
  {
   "cell_type": "markdown",
   "id": "printable-tragedy",
   "metadata": {},
   "source": [
    "Let's first solve the Ising system with QAOA and then compile it in the LHZ scheme and solve it for QAOA again."
   ]
  },
  {
   "cell_type": "code",
   "execution_count": 19,
   "id": "least-belfast",
   "metadata": {},
   "outputs": [],
   "source": [
    "p = 5\n",
    "x0=[1,1,1,1,1,1,1,1,1,1]\n",
    "minimize_result = minimize(qaoa.black_box_objective(G,p),x0,method='COBYLA',options={'maxiter':2000,'disp':True})"
   ]
  },
  {
   "cell_type": "code",
   "execution_count": 20,
   "id": "square-criminal",
   "metadata": {},
   "outputs": [
    {
     "data": {
      "text/plain": [
       "<BarContainer object of 2 artists>"
      ]
     },
     "execution_count": 20,
     "metadata": {},
     "output_type": "execute_result"
    },
    {
     "data": {
      "image/png": "[encoded data removed]",
      "text/plain": [
       "<Figure size 432x288 with 1 Axes>"
      ]
     },
     "metadata": {
      "needs_background": "light"
     },
     "output_type": "display_data"
    }
   ],
   "source": [
    "sol_params = minimize_result['x']\n",
    "qc = qaoa.QAOA_circ(G,p,sol_params)\n",
    "backend  = Aer.get_backend('qasm_simulator')\n",
    "job = execute(qc,backend)\n",
    "result = job.result()\n",
    "corrected_counts = qaoa.invert_counts(result.get_counts())\n",
    "energies = defaultdict(int)\n",
    "for k, v in corrected_counts.items():\n",
    "    energies[qaoa.objective(k,G)] += v\n",
    "x,y = zip(*energies.items())\n",
    "plt.bar(x,y)"
   ]
  },
  {
   "cell_type": "markdown",
   "id": "romance-generic",
   "metadata": {},
   "source": [
    "Which reproduces the -4 minimal solution of the Ising model. "
   ]
  },
  {
   "cell_type": "markdown",
   "id": "otherwise-campaign",
   "metadata": {},
   "source": [
    "### LHZ scheme"
   ]
  },
  {
   "cell_type": "code",
   "execution_count": 21,
   "id": "hawaiian-vietnam",
   "metadata": {},
   "outputs": [
    {
     "data": {
      "image/png": "[encoded data removed]",
      "text/plain": [
       "<Figure size 1591.6x927.08 with 1 Axes>"
      ]
     },
     "execution_count": 21,
     "metadata": {},
     "output_type": "execute_result"
    }
   ],
   "source": [
    "n=4\n",
    "G = nx.Graph()\n",
    "G.add_nodes_from(range(n))\n",
    "G.add_edges_from(hspace.generate_edges(n))\n",
    "params = [1,2,3,4]\n",
    "p=2\n",
    "qc = lhz.LHZ_QAOA(G,p,params)\n",
    "qc.draw('mpl')"
   ]
  },
  {
   "cell_type": "code",
   "execution_count": 33,
   "id": "ultimate-latex",
   "metadata": {},
   "outputs": [],
   "source": [
    "def objective(state,n_logical,omega=3):\n",
    "    T_constraints = hspace.generate_T_constraints(n_logical)\n",
    "    S_constraints = hspace.generate_S_constraints(n_logical)\n",
    "    T_list = [hspace.to_parity_basis(T,n_logical) for T in T_constraints]\n",
    "    S_list = [hspace.to_parity_basis(S,n_logical) for S in S_constraints]\n",
    "    constraints = S_list+T_list\n",
    "    def energy(spin):\n",
    "        if spin==0:\n",
    "            return -1\n",
    "        if spin==1:\n",
    "            return 1\n",
    "    aux_state = [energy(int(spin)) for spin in state]\n",
    "    energy = 0\n",
    "    for spin in aux_state:\n",
    "        energy+=spin\n",
    "    for constraint in constraints:\n",
    "        plaquette_energy = 1\n",
    "        for site in constraint:\n",
    "            plaquette_energy  = plaquette_energy*aux_state[site]\n",
    "        energy-=plaquette_energy*omega\n",
    "    return energy"
   ]
  },
  {
   "cell_type": "code",
   "execution_count": 23,
   "id": "documented-friendly",
   "metadata": {},
   "outputs": [],
   "source": [
    "def sample_vev(result):\n",
    "    counts = qaoa.invert_counts(result.get_counts())\n",
    "    acc = 0\n",
    "    for state in counts.keys():\n",
    "        acc+= objective(state,4)*counts[state]\n",
    "    counts.values()\n",
    "    total_counts = 0\n",
    "    for count in counts.values():\n",
    "        total_counts += count\n",
    "    return acc/total_counts"
   ]
  },
  {
   "cell_type": "code",
   "execution_count": 24,
   "id": "sized-singing",
   "metadata": {},
   "outputs": [],
   "source": [
    "def black_box_objective(G,p):\n",
    "    backend  = Aer.get_backend('qasm_simulator')\n",
    "    def f(params):\n",
    "        qc = lhz.LHZ_QAOA(G,p,params)\n",
    "        job = execute(qc,backend)\n",
    "        result = job.result()\n",
    "        return sample_vev(result)\n",
    "    return f"
   ]
  },
  {
   "cell_type": "code",
   "execution_count": 25,
   "id": "included-motion",
   "metadata": {},
   "outputs": [
    {
     "name": "stdout",
     "output_type": "stream",
     "text": [
      "{'110100': 1, '000011': 1, '010000': 1, '001101': 2, '001011': 2, '011000': 4, '101000': 3, '110010': 1, '111100': 1, '100011': 2, '111001': 10, '101100': 10, '111110': 52, '100110': 3, '101111': 82, '000100': 3, '100001': 3, '101001': 13, '100101': 6, '110101': 12, '001001': 3, '010101': 5, '010110': 7, '011111': 95, '110011': 19, '001111': 19, '011010': 4, '010011': 7, '101101': 17, '011100': 4, '100100': 3, '111011': 78, '001100': 1, '000010': 1, '110111': 63, '111000': 5, '010001': 3, '111111': 275, '011011': 24, '110110': 11, '101010': 7, '111101': 31, '010111': 19, '101011': 15, '011001': 2, '100111': 28, '000111': 4, '101110': 11, '000001': 4, '011101': 15, '011110': 16, '110000': 1, '100010': 3, '001000': 3, '110001': 4, '111010': 5}\n"
     ]
    }
   ],
   "source": [
    "backend  = Aer.get_backend('qasm_simulator')\n",
    "job = execute(qc,backend)\n",
    "result = job.result()\n",
    "print(qaoa.invert_counts(result.get_counts()))"
   ]
  },
  {
   "cell_type": "code",
   "execution_count": 36,
   "id": "brief-sweet",
   "metadata": {},
   "outputs": [
    {
     "name": "stdout",
     "output_type": "stream",
     "text": [
      "[0.9167816, 0.66382941, 0.41845452, 0.68850524, 0.33163619, 0.54148793, 0.04703343, 0.51072126, 0.23248019, 0.83924367]\n"
     ]
    },
    {
     "data": {
      "text/plain": [
       "     fun: -9.869140625\n",
       "   maxcv: 0.0\n",
       " message: 'Optimization terminated successfully.'\n",
       "    nfev: 110\n",
       "  status: 1\n",
       " success: True\n",
       "       x: array([ 2.03286994,  1.01648176,  1.44612582,  0.45514652,  0.26252576,\n",
       "        0.50465786,  0.64608805,  1.77654463, -0.01115705,  0.36170725])"
      ]
     },
     "execution_count": 36,
     "metadata": {},
     "output_type": "execute_result"
    }
   ],
   "source": [
    "p = 5\n",
    "#x0=np.random.rand(10)\n",
    "x0 = [0.9167816,  0.66382941, 0.41845452, 0.68850524, 0.33163619, 0.54148793,\n",
    " 0.04703343, 0.51072126, 0.23248019, 0.83924367]\n",
    "print(x0)\n",
    "minimize_result = minimize(black_box_objective(G,p),x0,method='COBYLA',options={'maxiter':2000,'disp':True})\n",
    "minimize_result"
   ]
  },
  {
   "cell_type": "code",
   "execution_count": 37,
   "id": "abroad-front",
   "metadata": {},
   "outputs": [],
   "source": [
    "sol_params = minimize_result['x']\n",
    "qc = lhz.LHZ_QAOA(G,p,sol_params)\n",
    "backend  = Aer.get_backend('qasm_simulator')\n",
    "job = execute(qc,backend)\n",
    "result = job.result()\n",
    "corrected_counts = qaoa.invert_counts(result.get_counts())"
   ]
  },
  {
   "cell_type": "code",
   "execution_count": 38,
   "id": "applicable-default",
   "metadata": {},
   "outputs": [
    {
     "data": {
      "text/plain": [
       "{'000101': 1,\n",
       " '111010': 1,\n",
       " '000110': 1,\n",
       " '011111': 1,\n",
       " '110001': 12,\n",
       " '000010': 15,\n",
       " '010010': 1,\n",
       " '010001': 3,\n",
       " '011010': 10,\n",
       " '000001': 16,\n",
       " '010000': 1,\n",
       " '011011': 3,\n",
       " '000011': 923,\n",
       " '010101': 2,\n",
       " '010100': 8,\n",
       " '101000': 2,\n",
       " '010111': 3,\n",
       " '011000': 1,\n",
       " '000111': 14,\n",
       " '001011': 1,\n",
       " '000000': 1,\n",
       " '111011': 2,\n",
       " '110011': 1,\n",
       " '000100': 1}"
      ]
     },
     "execution_count": 38,
     "metadata": {},
     "output_type": "execute_result"
    }
   ],
   "source": [
    "corrected_counts"
   ]
  },
  {
   "cell_type": "code",
   "execution_count": 34,
   "id": "growing-bubble",
   "metadata": {},
   "outputs": [
    {
     "data": {
      "text/plain": [
       "[-3, -9, -9, -11, -9, -11, -11, -9]"
      ]
     },
     "execution_count": 34,
     "metadata": {},
     "output_type": "execute_result"
    }
   ],
   "source": [
    "[objective(state,4) for state in parity_space]"
   ]
  },
  {
   "cell_type": "markdown",
   "id": "plastic-oasis",
   "metadata": {},
   "source": [
    "As we can see from the count, the Quantum Annealing maps converges to the solution |000011>"
   ]
  }
 ],
 "metadata": {
  "kernelspec": {
   "display_name": "Python 3.8.5 64-bit ('fintelligence')",
   "language": "python",
   "name": "python38564bitfintelligence4ec7eb9d95ae48468d06393babb21631"
  },
  "language_info": {
   "codemirror_mode": {
    "name": "ipython",
    "version": 3
   },
   "file_extension": ".py",
   "mimetype": "text/x-python",
   "name": "python",
   "nbconvert_exporter": "python",
   "pygments_lexer": "ipython3",
   "version": "3.8.5"
  }
 },
 "nbformat": 4,
 "nbformat_minor": 5
}
