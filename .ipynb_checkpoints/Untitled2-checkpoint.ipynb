{
 "cells": [
  {
   "cell_type": "code",
   "execution_count": 1,
   "id": "planned-clause",
   "metadata": {},
   "outputs": [],
   "source": [
    "import numpy as np\n",
    "import networkx as nx\n",
    "import matplotlib.pyplot as plt\n",
    "import hspace, qaoa\n",
    "from scipy.optimize import minimize\n",
    "from collections import defaultdict\n",
    "from qiskit import QuantumCircuit, Aer, execute"
   ]
  },
  {
   "cell_type": "markdown",
   "id": "herbal-karaoke",
   "metadata": {},
   "source": [
    "We want to study a controlled action of operators in the all-to-all system of 4qubits in the LHZ formalism"
   ]
  },
  {
   "cell_type": "code",
   "execution_count": 2,
   "id": "second-process",
   "metadata": {},
   "outputs": [
    {
     "data": {
      "image/png": "[encoded data removed]",
      "text/plain": [
       "<Figure size 432x288 with 1 Axes>"
      ]
     },
     "metadata": {},
     "output_type": "display_data"
    }
   ],
   "source": [
    "n=4\n",
    "G = nx.Graph()\n",
    "G.add_nodes_from(range(n))\n",
    "G.add_edges_from(hspace.generate_edges(n))\n",
    "nx.draw(G,with_labels=True,alpha=0.9,node_size=400)"
   ]
  },
  {
   "cell_type": "markdown",
   "id": "acknowledged-milwaukee",
   "metadata": {},
   "source": [
    "We can brute force the solution by looping through all states"
   ]
  },
  {
   "cell_type": "code",
   "execution_count": 3,
   "id": "certified-stage",
   "metadata": {},
   "outputs": [],
   "source": [
    "def objective(state,G):\n",
    "    vev = 0\n",
    "    for edge in G.edges:\n",
    "        if state[edge[0]] != state[edge[1]]:\n",
    "            vev+=1\n",
    "    return -vev"
   ]
  },
  {
   "cell_type": "code",
   "execution_count": 9,
   "id": "exclusive-royalty",
   "metadata": {},
   "outputs": [
    {
     "data": {
      "text/plain": [
       "-4"
      ]
     },
     "execution_count": 9,
     "metadata": {},
     "output_type": "execute_result"
    }
   ],
   "source": [
    "np.array([objective(state,G) for state in hspace.generate_basis(4)]).min()"
   ]
  },
  {
   "cell_type": "code",
   "execution_count": 10,
   "id": "conservative-gibson",
   "metadata": {},
   "outputs": [
    {
     "name": "stdout",
     "output_type": "stream",
     "text": [
      "[[0, 0, 1, 1], [0, 1, 0, 1], [0, 1, 1, 0], [1, 0, 0, 1], [1, 0, 1, 0], [1, 1, 0, 0]]\n"
     ]
    }
   ],
   "source": [
    "ground_states = []\n",
    "for state in hspace.generate_basis(4):\n",
    "    if objective(state,G) == -4:\n",
    "        ground_states.append(state)\n",
    "print(ground_states)"
   ]
  },
  {
   "cell_type": "markdown",
   "id": "sixth-authority",
   "metadata": {},
   "source": [
    "In the parity variables they correspond to the solutions"
   ]
  },
  {
   "cell_type": "code",
   "execution_count": 11,
   "id": "broad-technical",
   "metadata": {},
   "outputs": [],
   "source": [
    "parity_ground = hspace.remove_duplicates([hspace.log_to_phys(state) for state in ground_states])"
   ]
  },
  {
   "cell_type": "code",
   "execution_count": 12,
   "id": "super-return",
   "metadata": {},
   "outputs": [
    {
     "data": {
      "text/plain": [
       "[[1, 0, 1, 0, 0, 0], [0, 0, 0, 0, 1, 1], [0, 1, 0, 1, 0, 0]]"
      ]
     },
     "execution_count": 12,
     "metadata": {},
     "output_type": "execute_result"
    }
   ],
   "source": [
    "parity_ground"
   ]
  },
  {
   "cell_type": "markdown",
   "id": "surprised-zealand",
   "metadata": {},
   "source": [
    "The parity Hamiltonian consists of the local field terms and T1, T2, S1 constraints"
   ]
  },
  {
   "cell_type": "code",
   "execution_count": 14,
   "id": "general-butler",
   "metadata": {},
   "outputs": [],
   "source": [
    "T_constraints = hspace.generate_T_constraints(4)\n",
    "S_constraints = hspace.generate_S_constraints(4)"
   ]
  },
  {
   "cell_type": "code",
   "execution_count": 16,
   "id": "greenhouse-bathroom",
   "metadata": {},
   "outputs": [
    {
     "data": {
      "text/plain": [
       "[[(0, 2), (1, 2), (0, 3), (1, 3)]]"
      ]
     },
     "execution_count": 16,
     "metadata": {},
     "output_type": "execute_result"
    }
   ],
   "source": [
    "T_constraints"
   ]
  },
  {
   "cell_type": "code",
   "execution_count": 17,
   "id": "cooked-controversy",
   "metadata": {},
   "outputs": [
    {
     "data": {
      "text/plain": [
       "[[(0, 2), (1, 2), (0, 3), (1, 3)]]"
      ]
     },
     "execution_count": 17,
     "metadata": {},
     "output_type": "execute_result"
    }
   ],
   "source": [
    "S_constraints"
   ]
  },
  {
   "cell_type": "code",
   "execution_count": 36,
   "id": "driving-joyce",
   "metadata": {},
   "outputs": [],
   "source": [
    "T_list = [hspace.to_parity_basis(T,4) for T in T_constraints]\n",
    "S_list = [hspace.to_parity_basis(S,4) for S in S_constraints]\n",
    "constraints = S_list+T_list"
   ]
  },
  {
   "cell_type": "code",
   "execution_count": 21,
   "id": "alternative-arthur",
   "metadata": {},
   "outputs": [
    {
     "data": {
      "text/plain": [
       "[[0, 1, 4], [1, 2, 5]]"
      ]
     },
     "execution_count": 21,
     "metadata": {},
     "output_type": "execute_result"
    }
   ],
   "source": [
    "T_list"
   ]
  },
  {
   "cell_type": "code",
   "execution_count": 22,
   "id": "occasional-virtue",
   "metadata": {},
   "outputs": [
    {
     "data": {
      "text/plain": [
       "[[1, 3, 4, 5]]"
      ]
     },
     "execution_count": 22,
     "metadata": {},
     "output_type": "execute_result"
    }
   ],
   "source": [
    "S_list"
   ]
  },
  {
   "cell_type": "markdown",
   "id": "defined-trauma",
   "metadata": {},
   "source": [
    "We can check that the states `parity_ground` satisfy the holonomy constaints, filtering via the `k_body_fix` function:"
   ]
  },
  {
   "cell_type": "code",
   "execution_count": 23,
   "id": "finished-spoke",
   "metadata": {},
   "outputs": [
    {
     "name": "stdout",
     "output_type": "stream",
     "text": [
      "[[1, 0, 1, 0, 0, 0], [0, 0, 0, 0, 1, 1], [0, 1, 0, 1, 0, 0]]\n"
     ]
    }
   ],
   "source": [
    "for T in T_list:\n",
    "    parity_solution = hspace.k_body_fix(T,parity_ground)[1]\n",
    "for S in S_list:\n",
    "    parity_solution = hspace.k_body_fix(S,parity_solution)[1]\n",
    "print(parity_solution)"
   ]
  },
  {
   "cell_type": "markdown",
   "id": "cubic-maria",
   "metadata": {},
   "source": [
    "For a given parity state |i_0,i_1,i_2,...,i_5>, the Hamiltonian H_LHZ evaluates to"
   ]
  },
  {
   "cell_type": "code",
   "execution_count": 86,
   "id": "molecular-protest",
   "metadata": {},
   "outputs": [],
   "source": [
    "def H_LHZ(state,constraints,strength = 1):\n",
    "    def energy(spin):\n",
    "        if spin==0:\n",
    "            return -1\n",
    "        if spin==1:\n",
    "            return 1\n",
    "    aux_state = [energy(int(spin)) for spin in state]\n",
    "    energy = 0\n",
    "    for spin in aux_state:\n",
    "        energy+=spin\n",
    "    for constraint in constraints:\n",
    "        plaquette_energy = 1\n",
    "        for site in constraint:\n",
    "            plaquette_energy  = plaquette_energy*aux_state[site]\n",
    "        energy-=plaquette_energy*strength\n",
    "    return energy"
   ]
  },
  {
   "cell_type": "code",
   "execution_count": 90,
   "id": "interesting-fusion",
   "metadata": {},
   "outputs": [
    {
     "data": {
      "text/plain": [
       "[-5, -5, -5]"
      ]
     },
     "execution_count": 90,
     "metadata": {},
     "output_type": "execute_result"
    }
   ],
   "source": [
    "[H_LHZ(ground_state,constraints) for ground_state in parity_ground ]"
   ]
  },
  {
   "cell_type": "code",
   "execution_count": 95,
   "id": "cognitive-platinum",
   "metadata": {},
   "outputs": [],
   "source": [
    "parity_space = hspace.remove_duplicates([hspace.log_to_phys(state) for state in hspace.generate_basis(4)])"
   ]
  },
  {
   "cell_type": "code",
   "execution_count": 96,
   "id": "divine-force",
   "metadata": {},
   "outputs": [
    {
     "data": {
      "text/plain": [
       "[3, -3, -3, -5, -3, -5, -5, -3]"
      ]
     },
     "execution_count": 96,
     "metadata": {},
     "output_type": "execute_result"
    }
   ],
   "source": [
    "[H_LHZ(state,constraints) for state in parity_space]"
   ]
  },
  {
   "cell_type": "markdown",
   "id": "suffering-convertible",
   "metadata": {},
   "source": [
    "which in fact correspond to the ground states of the parity_space."
   ]
  },
  {
   "cell_type": "markdown",
   "id": "soviet-thong",
   "metadata": {},
   "source": [
    "## Solving with QAOA"
   ]
  },
  {
   "cell_type": "markdown",
   "id": "particular-shirt",
   "metadata": {},
   "source": [
    "Let's first solve the Ising system with QAOA and then compile it in the LHZ scheme and solve it for QAOA again."
   ]
  }
 ],
 "metadata": {
  "kernelspec": {
   "display_name": "Python 3.8.5 64-bit ('fintelligence')",
   "language": "python",
   "name": "python38564bitfintelligence4ec7eb9d95ae48468d06393babb21631"
  },
  "language_info": {
   "codemirror_mode": {
    "name": "ipython",
    "version": 3
   },
   "file_extension": ".py",
   "mimetype": "text/x-python",
   "name": "python",
   "nbconvert_exporter": "python",
   "pygments_lexer": "ipython3",
   "version": "3.8.5"
  }
 },
 "nbformat": 4,
 "nbformat_minor": 5
}
