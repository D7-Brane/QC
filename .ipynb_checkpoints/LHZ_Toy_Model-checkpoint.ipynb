{
 "cells": [
  {
   "cell_type": "code",
   "execution_count": 1,
   "id": "offshore-residence",
   "metadata": {},
   "outputs": [],
   "source": [
    "import numpy as np\n",
    "import networkx as nx\n",
    "import matplotlib.pyplot as plt\n",
    "import hspace, qaoa, lhz\n",
    "from scipy.optimize import minimize\n",
    "from collections import defaultdict\n",
    "from qiskit import QuantumCircuit, Aer, execute"
   ]
  },
  {
   "cell_type": "markdown",
   "id": "indian-glass",
   "metadata": {},
   "source": [
    "We want to study a controlled action of operators in the all-to-all system of 4qubits in the LHZ formalism"
   ]
  },
  {
   "cell_type": "code",
   "execution_count": 2,
   "id": "european-wonder",
   "metadata": {},
   "outputs": [
    {
     "data": {
      "image/png": "[encoded data removed]",
      "text/plain": [
       "<Figure size 432x288 with 1 Axes>"
      ]
     },
     "metadata": {},
     "output_type": "display_data"
    }
   ],
   "source": [
    "n=4\n",
    "G = nx.Graph()\n",
    "G.add_nodes_from(range(n))\n",
    "G.add_edges_from(hspace.generate_edges(n))\n",
    "nx.draw(G,with_labels=True,alpha=0.9,node_size=400)"
   ]
  },
  {
   "cell_type": "markdown",
   "id": "mobile-possibility",
   "metadata": {},
   "source": [
    "We can brute force the solution by looping through all states"
   ]
  },
  {
   "cell_type": "code",
   "execution_count": 3,
   "id": "apparent-jonathan",
   "metadata": {},
   "outputs": [
    {
     "data": {
      "text/plain": [
       "-4"
      ]
     },
     "execution_count": 3,
     "metadata": {},
     "output_type": "execute_result"
    }
   ],
   "source": [
    "np.array([qaoa.objective(state,G) for state in hspace.generate_basis(4)]).min()"
   ]
  },
  {
   "cell_type": "code",
   "execution_count": 4,
   "id": "awful-gabriel",
   "metadata": {},
   "outputs": [
    {
     "name": "stdout",
     "output_type": "stream",
     "text": [
      "[[0, 0, 1, 1], [0, 1, 0, 1], [0, 1, 1, 0], [1, 0, 0, 1], [1, 0, 1, 0], [1, 1, 0, 0]]\n"
     ]
    }
   ],
   "source": [
    "ground_states = []\n",
    "for state in hspace.generate_basis(4):\n",
    "    if qaoa.objective(state,G) == -4:\n",
    "        ground_states.append(state)\n",
    "print(ground_states)"
   ]
  },
  {
   "cell_type": "markdown",
   "id": "exact-albert",
   "metadata": {},
   "source": [
    "In the parity variables they correspond to the solutions"
   ]
  },
  {
   "cell_type": "code",
   "execution_count": 5,
   "id": "functional-budget",
   "metadata": {},
   "outputs": [],
   "source": [
    "parity_ground = hspace.remove_duplicates([hspace.log_to_phys(state) for state in ground_states])"
   ]
  },
  {
   "cell_type": "code",
   "execution_count": 6,
   "id": "consistent-sally",
   "metadata": {},
   "outputs": [
    {
     "data": {
      "text/plain": [
       "[[1, 0, 1, 0, 0, 0], [0, 0, 0, 0, 1, 1], [0, 1, 0, 1, 0, 0]]"
      ]
     },
     "execution_count": 6,
     "metadata": {},
     "output_type": "execute_result"
    }
   ],
   "source": [
    "parity_ground"
   ]
  },
  {
   "cell_type": "markdown",
   "id": "quick-ladder",
   "metadata": {},
   "source": [
    "The parity Hamiltonian consists of the local field terms and T1, T2, S1 constraints"
   ]
  },
  {
   "cell_type": "code",
   "execution_count": 7,
   "id": "bearing-mobile",
   "metadata": {},
   "outputs": [],
   "source": [
    "T_constraints = hspace.generate_T_constraints(4)\n",
    "S_constraints = hspace.generate_S_constraints(4)"
   ]
  },
  {
   "cell_type": "code",
   "execution_count": 8,
   "id": "transsexual-yield",
   "metadata": {},
   "outputs": [],
   "source": [
    "T_list = [hspace.to_parity_basis(T,4) for T in T_constraints]\n",
    "S_list = [hspace.to_parity_basis(S,4) for S in S_constraints]\n",
    "constraints = S_list+T_list"
   ]
  },
  {
   "cell_type": "code",
   "execution_count": 11,
   "id": "postal-playback",
   "metadata": {},
   "outputs": [
    {
     "data": {
      "text/plain": [
       "[[1, 3, 4, 5], [0, 1, 4], [1, 2, 5]]"
      ]
     },
     "execution_count": 11,
     "metadata": {},
     "output_type": "execute_result"
    }
   ],
   "source": [
    "constraints"
   ]
  },
  {
   "cell_type": "markdown",
   "id": "small-response",
   "metadata": {},
   "source": [
    "We can check that the states `parity_ground` satisfy the holonomy constaints, filtering via the `k_body_fix` function:"
   ]
  },
  {
   "cell_type": "code",
   "execution_count": 12,
   "id": "stunning-quest",
   "metadata": {},
   "outputs": [
    {
     "name": "stdout",
     "output_type": "stream",
     "text": [
      "[[1, 0, 1, 0, 0, 0], [0, 0, 0, 0, 1, 1], [0, 1, 0, 1, 0, 0]]\n"
     ]
    }
   ],
   "source": [
    "for T in T_list:\n",
    "    parity_solution = hspace.k_body_fix(T,parity_ground)[1]\n",
    "for S in S_list:\n",
    "    parity_solution = hspace.k_body_fix(S,parity_solution)[1]\n",
    "print(parity_solution)"
   ]
  },
  {
   "cell_type": "markdown",
   "id": "instrumental-boards",
   "metadata": {},
   "source": [
    "For a given parity state |i_0,i_1,i_2,...,i_5>, the Hamiltonian H_LHZ evaluates to"
   ]
  },
  {
   "cell_type": "code",
   "execution_count": 13,
   "id": "alternative-canyon",
   "metadata": {},
   "outputs": [],
   "source": [
    "def H_LHZ(state,constraints,strength = 1):\n",
    "    def energy(spin):\n",
    "        if spin==0:\n",
    "            return -1\n",
    "        if spin==1:\n",
    "            return 1\n",
    "    aux_state = [energy(int(spin)) for spin in state]\n",
    "    energy = 0\n",
    "    for spin in aux_state:\n",
    "        energy+=spin\n",
    "    for constraint in constraints:\n",
    "        plaquette_energy = 1\n",
    "        for site in constraint:\n",
    "            plaquette_energy  = plaquette_energy*aux_state[site]\n",
    "        energy-=plaquette_energy*strength\n",
    "    return energy"
   ]
  },
  {
   "cell_type": "code",
   "execution_count": 14,
   "id": "hearing-machine",
   "metadata": {},
   "outputs": [
    {
     "data": {
      "text/plain": [
       "[-5, -5, -5]"
      ]
     },
     "execution_count": 14,
     "metadata": {},
     "output_type": "execute_result"
    }
   ],
   "source": [
    "[H_LHZ(ground_state,constraints) for ground_state in parity_ground ]"
   ]
  },
  {
   "cell_type": "code",
   "execution_count": 15,
   "id": "cordless-local",
   "metadata": {},
   "outputs": [],
   "source": [
    "parity_space = hspace.remove_duplicates([hspace.log_to_phys(state) for state in hspace.generate_basis(4)])"
   ]
  },
  {
   "cell_type": "code",
   "execution_count": 16,
   "id": "maritime-tulsa",
   "metadata": {},
   "outputs": [
    {
     "data": {
      "text/plain": [
       "[3, -3, -3, -5, -3, -5, -5, -3]"
      ]
     },
     "execution_count": 16,
     "metadata": {},
     "output_type": "execute_result"
    }
   ],
   "source": [
    "[H_LHZ(state,constraints) for state in parity_space]"
   ]
  },
  {
   "cell_type": "markdown",
   "id": "vocational-democracy",
   "metadata": {},
   "source": [
    "which in fact correspond to the ground states of the parity_space."
   ]
  },
  {
   "cell_type": "markdown",
   "id": "respective-handbook",
   "metadata": {},
   "source": [
    "## Solving with QAOA"
   ]
  },
  {
   "cell_type": "markdown",
   "id": "dated-racing",
   "metadata": {},
   "source": [
    "Let's first solve the Ising system with QAOA and then compile it in the LHZ scheme and solve it for QAOA again."
   ]
  },
  {
   "cell_type": "code",
   "execution_count": 17,
   "id": "modified-mouth",
   "metadata": {},
   "outputs": [],
   "source": [
    "p = 5\n",
    "x0=[1,1,1,1,1,1,1,1,1,1]\n",
    "minimize_result = minimize(qaoa.black_box_objective(G,p),x0,method='COBYLA',options={'maxiter':2000,'disp':True})"
   ]
  },
  {
   "cell_type": "code",
   "execution_count": 19,
   "id": "governing-publicity",
   "metadata": {},
   "outputs": [
    {
     "data": {
      "text/plain": [
       "<BarContainer object of 3 artists>"
      ]
     },
     "execution_count": 19,
     "metadata": {},
     "output_type": "execute_result"
    },
    {
     "data": {
      "image/png": "[encoded data removed]",
      "text/plain": [
       "<Figure size 432x288 with 1 Axes>"
      ]
     },
     "metadata": {
      "needs_background": "light"
     },
     "output_type": "display_data"
    }
   ],
   "source": [
    "sol_params = minimize_result['x']\n",
    "qc = qaoa.QAOA_circ(G,p,sol_params)\n",
    "backend  = Aer.get_backend('qasm_simulator')\n",
    "job = execute(qc,backend)\n",
    "result = job.result()\n",
    "corrected_counts = qaoa.invert_counts(result.get_counts())\n",
    "energies = defaultdict(int)\n",
    "for k, v in corrected_counts.items():\n",
    "    energies[qaoa.objective(k,G)] += v\n",
    "x,y = zip(*energies.items())\n",
    "plt.bar(x,y)"
   ]
  },
  {
   "cell_type": "markdown",
   "id": "married-theta",
   "metadata": {},
   "source": [
    "Which reproduces the -4 minimal solution of the Ising model. "
   ]
  },
  {
   "cell_type": "markdown",
   "id": "patient-charlotte",
   "metadata": {},
   "source": [
    "### LHZ scheme"
   ]
  },
  {
   "cell_type": "code",
   "execution_count": 20,
   "id": "fleet-sussex",
   "metadata": {},
   "outputs": [
    {
     "data": {
      "image/png": "[encoded data removed]",
      "text/plain": [
       "<Figure size 1591.6x927.08 with 1 Axes>"
      ]
     },
     "execution_count": 20,
     "metadata": {},
     "output_type": "execute_result"
    }
   ],
   "source": [
    "n=4\n",
    "G = nx.Graph()\n",
    "G.add_nodes_from(range(n))\n",
    "G.add_edges_from(hspace.generate_edges(n))\n",
    "params = [1,2,3,4]\n",
    "p=2\n",
    "qc = lhz.LHZ_QAOA(G,p,params)\n",
    "qc.draw('mpl')"
   ]
  },
  {
   "cell_type": "code",
   "execution_count": 21,
   "id": "casual-rider",
   "metadata": {},
   "outputs": [],
   "source": [
    "def objective(state,n_logical,omega=3):\n",
    "    T_constraints = hspace.generate_T_constraints(n_logical)\n",
    "    S_constraints = hspace.generate_S_constraints(n_logical)\n",
    "    T_list = [hspace.to_parity_basis(T,n_logical) for T in T_constraints]\n",
    "    S_list = [hspace.to_parity_basis(S,n_logical) for S in S_constraints]\n",
    "    constraints = S_list+T_list\n",
    "    def energy(spin):\n",
    "        if spin==0:\n",
    "            return -1\n",
    "        if spin==1:\n",
    "            return 1\n",
    "    aux_state = [energy(int(spin)) for spin in state]\n",
    "    energy = 0\n",
    "    for spin in aux_state:\n",
    "        energy+=spin\n",
    "    for constraint in constraints:\n",
    "        plaquette_energy = 1\n",
    "        for site in constraint:\n",
    "            plaquette_energy  = plaquette_energy*aux_state[site]\n",
    "        energy-=plaquette_energy*omega\n",
    "    return energy"
   ]
  },
  {
   "cell_type": "code",
   "execution_count": 22,
   "id": "backed-annotation",
   "metadata": {},
   "outputs": [],
   "source": [
    "def sample_vev(result):\n",
    "    counts = qaoa.invert_counts(result.get_counts())\n",
    "    acc = 0\n",
    "    for state in counts.keys():\n",
    "        acc+= objective(state,4)*counts[state]\n",
    "    counts.values()\n",
    "    total_counts = 0\n",
    "    for count in counts.values():\n",
    "        total_counts += count\n",
    "    return acc/total_counts"
   ]
  },
  {
   "cell_type": "code",
   "execution_count": 23,
   "id": "chronic-theme",
   "metadata": {},
   "outputs": [],
   "source": [
    "def black_box_objective(G,p):\n",
    "    backend  = Aer.get_backend('qasm_simulator')\n",
    "    def f(params):\n",
    "        qc = lhz.LHZ_QAOA(G,p,params)\n",
    "        job = execute(qc,backend)\n",
    "        result = job.result()\n",
    "        return sample_vev(result)\n",
    "    return f"
   ]
  },
  {
   "cell_type": "code",
   "execution_count": 24,
   "id": "defined-locator",
   "metadata": {},
   "outputs": [
    {
     "name": "stdout",
     "output_type": "stream",
     "text": [
      "{'000011': 2, '000100': 1, '100000': 1, '111010': 7, '110001': 6, '101100': 6, '011010': 5, '010011': 3, '110100': 2, '001101': 3, '001001': 2, '011110': 10, '000111': 9, '101011': 17, '010111': 19, '011001': 2, '100111': 12, '100101': 3, '111001': 13, '100001': 3, '101001': 8, '001100': 2, '000010': 1, '110111': 86, '111000': 5, '111101': 34, '101010': 9, '111110': 54, '100110': 3, '101111': 80, '111111': 262, '110011': 25, '001111': 28, '111011': 64, '100100': 2, '110110': 18, '011011': 23, '000000': 1, '110101': 17, '011101': 15, '001011': 3, '101101': 17, '000101': 1, '011100': 1, '101110': 9, '001010': 3, '010010': 3, '111100': 9, '110000': 5, '101000': 2, '110010': 4, '011111': 79, '010101': 9, '010110': 5, '100011': 6, '001110': 5}\n"
     ]
    }
   ],
   "source": [
    "backend  = Aer.get_backend('qasm_simulator')\n",
    "job = execute(qc,backend)\n",
    "result = job.result()\n",
    "print(qaoa.invert_counts(result.get_counts()))"
   ]
  },
  {
   "cell_type": "code",
   "execution_count": 25,
   "id": "completed-aviation",
   "metadata": {},
   "outputs": [
    {
     "name": "stdout",
     "output_type": "stream",
     "text": [
      "[0.9167816, 0.66382941, 0.41845452, 0.68850524, 0.33163619, 0.54148793, 0.04703343, 0.51072126, 0.23248019, 0.83924367]\n"
     ]
    },
    {
     "data": {
      "text/plain": [
       "     fun: -10.095703125\n",
       "   maxcv: 0.0\n",
       " message: 'Optimization terminated successfully.'\n",
       "    nfev: 120\n",
       "  status: 1\n",
       " success: True\n",
       "       x: array([ 1.84357752,  1.6223067 ,  0.6315999 ,  0.77373477,  0.27968997,\n",
       "        0.64052555, -0.38943357,  1.95896173,  0.38659023,  0.5869358 ])"
      ]
     },
     "execution_count": 25,
     "metadata": {},
     "output_type": "execute_result"
    }
   ],
   "source": [
    "p = 5\n",
    "#x0=np.random.rand(10)\n",
    "x0 = [0.9167816,  0.66382941, 0.41845452, 0.68850524, 0.33163619, 0.54148793,\n",
    " 0.04703343, 0.51072126, 0.23248019, 0.83924367]\n",
    "print(x0)\n",
    "minimize_result = minimize(black_box_objective(G,p),x0,method='COBYLA',options={'maxiter':2000,'disp':True})\n",
    "minimize_result"
   ]
  },
  {
   "cell_type": "code",
   "execution_count": 26,
   "id": "hundred-ballet",
   "metadata": {},
   "outputs": [],
   "source": [
    "sol_params = minimize_result['x']\n",
    "qc = lhz.LHZ_QAOA(G,p,sol_params)\n",
    "backend  = Aer.get_backend('qasm_simulator')\n",
    "job = execute(qc,backend)\n",
    "result = job.result()\n",
    "corrected_counts = qaoa.invert_counts(result.get_counts())"
   ]
  },
  {
   "cell_type": "code",
   "execution_count": 27,
   "id": "cardiovascular-antibody",
   "metadata": {},
   "outputs": [
    {
     "data": {
      "text/plain": [
       "{'000101': 2,\n",
       " '010101': 1,\n",
       " '001011': 1,\n",
       " '000110': 1,\n",
       " '100100': 1,\n",
       " '010011': 10,\n",
       " '000010': 4,\n",
       " '110110': 1,\n",
       " '110001': 10,\n",
       " '001101': 2,\n",
       " '010100': 9,\n",
       " '000100': 1,\n",
       " '110011': 9,\n",
       " '011010': 7,\n",
       " '010001': 2,\n",
       " '110000': 1,\n",
       " '000000': 4,\n",
       " '010000': 2,\n",
       " '011011': 14,\n",
       " '000001': 1,\n",
       " '100111': 1,\n",
       " '000111': 2,\n",
       " '000011': 937,\n",
       " '010110': 1}"
      ]
     },
     "execution_count": 27,
     "metadata": {},
     "output_type": "execute_result"
    }
   ],
   "source": [
    "corrected_counts"
   ]
  },
  {
   "cell_type": "code",
   "execution_count": 34,
   "id": "spread-temple",
   "metadata": {},
   "outputs": [
    {
     "data": {
      "text/plain": [
       "[-3, -9, -9, -11, -9, -11, -11, -9]"
      ]
     },
     "execution_count": 34,
     "metadata": {},
     "output_type": "execute_result"
    }
   ],
   "source": [
    "[objective(state,4) for state in parity_space]"
   ]
  },
  {
   "cell_type": "markdown",
   "id": "regular-charter",
   "metadata": {},
   "source": [
    "As we can see from the count, the Quantum Annealing converges to the solution |000011>"
   ]
  }
 ],
 "metadata": {
  "kernelspec": {
   "display_name": "Python 3.8.5 64-bit ('fintelligence')",
   "language": "python",
   "name": "python38564bitfintelligence4ec7eb9d95ae48468d06393babb21631"
  },
  "language_info": {
   "codemirror_mode": {
    "name": "ipython",
    "version": 3
   },
   "file_extension": ".py",
   "mimetype": "text/x-python",
   "name": "python",
   "nbconvert_exporter": "python",
   "pygments_lexer": "ipython3",
   "version": "3.8.5"
  }
 },
 "nbformat": 4,
 "nbformat_minor": 5
}
